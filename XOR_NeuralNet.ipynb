{
  "nbformat": 4,
  "nbformat_minor": 0,
  "metadata": {
    "colab": {
      "provenance": [],
      "authorship_tag": "ABX9TyPmLKqXindhPzThxoh1gcgc",
      "include_colab_link": true
    },
    "kernelspec": {
      "name": "python3",
      "display_name": "Python 3"
    },
    "language_info": {
      "name": "python"
    }
  },
  "cells": [
    {
      "cell_type": "markdown",
      "metadata": {
        "id": "view-in-github",
        "colab_type": "text"
      },
      "source": [
        "<a href=\"https://colab.research.google.com/github/Dimple-Bansal-003/Deep-Learning/blob/main/XOR_NeuralNet.ipynb\" target=\"_parent\"><img src=\"https://colab.research.google.com/assets/colab-badge.svg\" alt=\"Open In Colab\"/></a>"
      ]
    },
    {
      "cell_type": "code",
      "execution_count": 2,
      "metadata": {
        "id": "FYlfNohpcv2y"
      },
      "outputs": [],
      "source": [
        "import numpy as np\n",
        "import tensorflow as tf\n",
        "from tensorflow.keras.models import Sequential\n",
        "from tensorflow.keras.layers import Dense"
      ]
    },
    {
      "cell_type": "code",
      "source": [
        "#define the XOR input and output\n",
        "X = np.array([[0,0],[0,1],[1,0],[1,1]])\n",
        "y = np.array([[0],[1],[1],[0]])"
      ],
      "metadata": {
        "id": "cAWKshw5e8KS"
      },
      "execution_count": 3,
      "outputs": []
    },
    {
      "cell_type": "code",
      "source": [
        "#bbuild the neural network model\n",
        "model = Sequential()\n",
        "\n",
        "#hidden layer with 2 neuron\n",
        "model.add(Dense(2,activation='relu'))\n",
        "#output layer with 1 neuron\n",
        "model.add(Dense(1,activation='sigmoid'))"
      ],
      "metadata": {
        "id": "RA3U96RHfRTR"
      },
      "execution_count": 4,
      "outputs": []
    },
    {
      "cell_type": "code",
      "source": [
        "#compile the model\n",
        "model.compile(optimizer='adam',loss='binary_crossentropy',metrics=['accuracy'])"
      ],
      "metadata": {
        "id": "2S7G46-3ft1G"
      },
      "execution_count": 5,
      "outputs": []
    },
    {
      "cell_type": "code",
      "source": [
        "#train the model\n",
        "model.fit(X,y,epochs=1000,verbose=0)"
      ],
      "metadata": {
        "colab": {
          "base_uri": "https://localhost:8080/"
        },
        "id": "F-xkWV1Bf5KU",
        "outputId": "145bea81-8394-4931-d43f-f78b06227b4a"
      },
      "execution_count": 6,
      "outputs": [
        {
          "output_type": "execute_result",
          "data": {
            "text/plain": [
              "<keras.src.callbacks.history.History at 0x7ac57cd7c5f0>"
            ]
          },
          "metadata": {},
          "execution_count": 6
        }
      ]
    },
    {
      "cell_type": "code",
      "source": [
        "#evaluate the model\n",
        "accuracy = model.evaluate(X,y)\n",
        "print(f\"Accuracy:{accuracy * 100}:.2f%\")"
      ],
      "metadata": {
        "colab": {
          "base_uri": "https://localhost:8080/"
        },
        "id": "_xZsNDGigCZC",
        "outputId": "1f7db308-cc8f-4051-cfd9-361d1853f05d"
      },
      "execution_count": 9,
      "outputs": [
        {
          "output_type": "stream",
          "name": "stdout",
          "text": [
            "\u001b[1m1/1\u001b[0m \u001b[32m━━━━━━━━━━━━━━━━━━━━\u001b[0m\u001b[37m\u001b[0m \u001b[1m0s\u001b[0m 37ms/step - accuracy: 0.5000 - loss: 0.6931\n",
            "Accuracy:[0.6931471824645996, 0.5, 0.6931471824645996, 0.5, 0.6931471824645996, 0.5, 0.6931471824645996, 0.5, 0.6931471824645996, 0.5, 0.6931471824645996, 0.5, 0.6931471824645996, 0.5, 0.6931471824645996, 0.5, 0.6931471824645996, 0.5, 0.6931471824645996, 0.5, 0.6931471824645996, 0.5, 0.6931471824645996, 0.5, 0.6931471824645996, 0.5, 0.6931471824645996, 0.5, 0.6931471824645996, 0.5, 0.6931471824645996, 0.5, 0.6931471824645996, 0.5, 0.6931471824645996, 0.5, 0.6931471824645996, 0.5, 0.6931471824645996, 0.5, 0.6931471824645996, 0.5, 0.6931471824645996, 0.5, 0.6931471824645996, 0.5, 0.6931471824645996, 0.5, 0.6931471824645996, 0.5, 0.6931471824645996, 0.5, 0.6931471824645996, 0.5, 0.6931471824645996, 0.5, 0.6931471824645996, 0.5, 0.6931471824645996, 0.5, 0.6931471824645996, 0.5, 0.6931471824645996, 0.5, 0.6931471824645996, 0.5, 0.6931471824645996, 0.5, 0.6931471824645996, 0.5, 0.6931471824645996, 0.5, 0.6931471824645996, 0.5, 0.6931471824645996, 0.5, 0.6931471824645996, 0.5, 0.6931471824645996, 0.5, 0.6931471824645996, 0.5, 0.6931471824645996, 0.5, 0.6931471824645996, 0.5, 0.6931471824645996, 0.5, 0.6931471824645996, 0.5, 0.6931471824645996, 0.5, 0.6931471824645996, 0.5, 0.6931471824645996, 0.5, 0.6931471824645996, 0.5, 0.6931471824645996, 0.5, 0.6931471824645996, 0.5, 0.6931471824645996, 0.5, 0.6931471824645996, 0.5, 0.6931471824645996, 0.5, 0.6931471824645996, 0.5, 0.6931471824645996, 0.5, 0.6931471824645996, 0.5, 0.6931471824645996, 0.5, 0.6931471824645996, 0.5, 0.6931471824645996, 0.5, 0.6931471824645996, 0.5, 0.6931471824645996, 0.5, 0.6931471824645996, 0.5, 0.6931471824645996, 0.5, 0.6931471824645996, 0.5, 0.6931471824645996, 0.5, 0.6931471824645996, 0.5, 0.6931471824645996, 0.5, 0.6931471824645996, 0.5, 0.6931471824645996, 0.5, 0.6931471824645996, 0.5, 0.6931471824645996, 0.5, 0.6931471824645996, 0.5, 0.6931471824645996, 0.5, 0.6931471824645996, 0.5, 0.6931471824645996, 0.5, 0.6931471824645996, 0.5, 0.6931471824645996, 0.5, 0.6931471824645996, 0.5, 0.6931471824645996, 0.5, 0.6931471824645996, 0.5, 0.6931471824645996, 0.5, 0.6931471824645996, 0.5, 0.6931471824645996, 0.5, 0.6931471824645996, 0.5, 0.6931471824645996, 0.5, 0.6931471824645996, 0.5, 0.6931471824645996, 0.5, 0.6931471824645996, 0.5, 0.6931471824645996, 0.5, 0.6931471824645996, 0.5, 0.6931471824645996, 0.5, 0.6931471824645996, 0.5, 0.6931471824645996, 0.5, 0.6931471824645996, 0.5, 0.6931471824645996, 0.5, 0.6931471824645996, 0.5, 0.6931471824645996, 0.5, 0.6931471824645996, 0.5, 0.6931471824645996, 0.5]:.2f%\n"
          ]
        }
      ]
    },
    {
      "cell_type": "code",
      "source": [
        "#Make predictions\n",
        "predictions = model.predict(X)\n",
        "predictions = np.round(predictions).astype(int)"
      ],
      "metadata": {
        "colab": {
          "base_uri": "https://localhost:8080/"
        },
        "id": "bOr0AwdjgUjZ",
        "outputId": "8f807781-ded3-4d3e-bdd4-073f75fbfb83"
      },
      "execution_count": 10,
      "outputs": [
        {
          "output_type": "stream",
          "name": "stdout",
          "text": [
            "\u001b[1m1/1\u001b[0m \u001b[32m━━━━━━━━━━━━━━━━━━━━\u001b[0m\u001b[37m\u001b[0m \u001b[1m0s\u001b[0m 57ms/step\n"
          ]
        }
      ]
    },
    {
      "cell_type": "code",
      "source": [
        "print(\"Predictions:\")\n",
        "for i in range(len(X)):\n",
        "  print(f\"Input :{X[i]} => Predicted Output: {predictions[i]},Actual Output:{y[i]}\")"
      ],
      "metadata": {
        "colab": {
          "base_uri": "https://localhost:8080/"
        },
        "id": "rvhu5oo2gsmm",
        "outputId": "b77a4882-4592-427a-fb27-4438a4ca5031"
      },
      "execution_count": 11,
      "outputs": [
        {
          "output_type": "stream",
          "name": "stdout",
          "text": [
            "Predictions:\n",
            "Input :[0 0] => Predicted Output: [0],Actual Output:[0]\n",
            "Input :[0 1] => Predicted Output: [0],Actual Output:[1]\n",
            "Input :[1 0] => Predicted Output: [0],Actual Output:[1]\n",
            "Input :[1 1] => Predicted Output: [0],Actual Output:[0]\n"
          ]
        }
      ]
    },
    {
      "cell_type": "code",
      "source": [],
      "metadata": {
        "id": "2kKySw1jg_d2"
      },
      "execution_count": null,
      "outputs": []
    }
  ]
}